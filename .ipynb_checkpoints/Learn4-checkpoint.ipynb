{
 "cells": [
  {
   "cell_type": "code",
   "execution_count": 1,
   "metadata": {},
   "outputs": [
    {
     "name": "stdout",
     "output_type": "stream",
     "text": [
      "(150, 5)\n",
      "   sepal.length  sepal.width  petal.length  petal.width variety\n",
      "0           5.1          3.5           1.4          0.2  Setosa\n",
      "1           4.9          3.0           1.4          0.2  Setosa\n",
      "2           4.7          3.2           1.3          0.2  Setosa\n"
     ]
    }
   ],
   "source": [
    "from pandas import read_csv\n",
    "path = r\"iris.csv\"\n",
    "data = read_csv(path)\n",
    "print(data.shape)\n",
    "print(data[:3])\n"
   ]
  },
  {
   "cell_type": "code",
   "execution_count": 3,
   "metadata": {},
   "outputs": [
    {
     "name": "stdout",
     "output_type": "stream",
     "text": [
      "(777, 9)\n",
      "                                                preg  plas  pres  skin  test  \\\n",
      "0                      # 1. Number of times pregnant   NaN   NaN   NaN   NaN   \n",
      "1  # 2. Plasma glucose concentration a 2 hours in...   NaN   NaN   NaN   NaN   \n",
      "2              # 3. Diastolic blood pressure (mm Hg)   NaN   NaN   NaN   NaN   \n",
      "\n",
      "   mass  pedi  age  class  \n",
      "0   NaN   NaN  NaN    NaN  \n",
      "1   NaN   NaN  NaN    NaN  \n",
      "2   NaN   NaN  NaN    NaN  \n"
     ]
    }
   ],
   "source": [
    "from pandas import read_csv\n",
    "path = r\"pima-indians-diabetes.csv\"\n",
    "headernames = ['preg', 'plas', 'pres', 'skin', 'test', 'mass', 'pedi', 'age', 'class']\n",
    "data = read_csv(path, names=headernames)\n",
    "print(data.shape)\n",
    "print(data[:3])\n"
   ]
  },
  {
   "cell_type": "code",
   "execution_count": null,
   "metadata": {},
   "outputs": [],
   "source": []
  }
 ],
 "metadata": {
  "kernelspec": {
   "display_name": "Python 3",
   "language": "python",
   "name": "python3"
  },
  "language_info": {
   "codemirror_mode": {
    "name": "ipython",
    "version": 3
   },
   "file_extension": ".py",
   "mimetype": "text/x-python",
   "name": "python",
   "nbconvert_exporter": "python",
   "pygments_lexer": "ipython3",
   "version": "3.8.3"
  }
 },
 "nbformat": 4,
 "nbformat_minor": 4
}
