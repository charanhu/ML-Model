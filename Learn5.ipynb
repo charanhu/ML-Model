{
 "cells": [
  {
   "cell_type": "code",
   "execution_count": 3,
   "metadata": {},
   "outputs": [
    {
     "name": "stdout",
     "output_type": "stream",
     "text": [
      "                                                 preg   plas  pres  skin  \\\n",
      "0                       # 1. Number of times pregnant    NaN   NaN   NaN   \n",
      "1   # 2. Plasma glucose concentration a 2 hours in...    NaN   NaN   NaN   \n",
      "2               # 3. Diastolic blood pressure (mm Hg)    NaN   NaN   NaN   \n",
      "3               # 4. Triceps skin fold thickness (mm)    NaN   NaN   NaN   \n",
      "4                 # 5. 2-Hour serum insulin (mu U/ml)    NaN   NaN   NaN   \n",
      "5   # 6. Body mass index (weight in kg/(height in ...    NaN   NaN   NaN   \n",
      "6                     # 7. Diabetes pedigree function    NaN   NaN   NaN   \n",
      "7                                    # 8. Age (years)    NaN   NaN   NaN   \n",
      "8                        # 9. Class variable (0 or 1)    NaN   NaN   NaN   \n",
      "9                                                   6  148.0  72.0  35.0   \n",
      "10                                                  1   85.0  66.0  29.0   \n",
      "11                                                  8  183.0  64.0   0.0   \n",
      "12                                                  1   89.0  66.0  23.0   \n",
      "13                                                  0  137.0  40.0  35.0   \n",
      "14                                                  5  116.0  74.0   0.0   \n",
      "15                                                  3   78.0  50.0  32.0   \n",
      "16                                                 10  115.0   0.0   0.0   \n",
      "17                                                  2  197.0  70.0  45.0   \n",
      "18                                                  8  125.0  96.0   0.0   \n",
      "19                                                  4  110.0  92.0   0.0   \n",
      "20                                                 10  168.0  74.0   0.0   \n",
      "21                                                 10  139.0  80.0   0.0   \n",
      "22                                                  1  189.0  60.0  23.0   \n",
      "23                                                  5  166.0  72.0  19.0   \n",
      "24                                                  7  100.0   0.0   0.0   \n",
      "25                                                  0  118.0  84.0  47.0   \n",
      "26                                                  7  107.0  74.0   0.0   \n",
      "27                                                  1  103.0  30.0  38.0   \n",
      "28                                                  1  115.0  70.0  30.0   \n",
      "29                                                  3  126.0  88.0  41.0   \n",
      "30                                                  8   99.0  84.0   0.0   \n",
      "31                                                  7  196.0  90.0   0.0   \n",
      "32                                                  9  119.0  80.0  35.0   \n",
      "33                                                 11  143.0  94.0  33.0   \n",
      "34                                                 10  125.0  70.0  26.0   \n",
      "35                                                  7  147.0  76.0   0.0   \n",
      "36                                                  1   97.0  66.0  15.0   \n",
      "37                                                 13  145.0  82.0  19.0   \n",
      "38                                                  5  117.0  92.0   0.0   \n",
      "39                                                  5  109.0  75.0  26.0   \n",
      "40                                                  3  158.0  76.0  36.0   \n",
      "41                                                  3   88.0  58.0  11.0   \n",
      "42                                                  6   92.0  92.0   0.0   \n",
      "43                                                 10  122.0  78.0  31.0   \n",
      "44                                                  4  103.0  60.0  33.0   \n",
      "45                                                 11  138.0  76.0   0.0   \n",
      "46                                                  9  102.0  76.0  37.0   \n",
      "47                                                  2   90.0  68.0  42.0   \n",
      "48                                                  4  111.0  72.0  47.0   \n",
      "49                                                  3  180.0  64.0  25.0   \n",
      "\n",
      "     test  mass   pedi   age  class  \n",
      "0     NaN   NaN    NaN   NaN    NaN  \n",
      "1     NaN   NaN    NaN   NaN    NaN  \n",
      "2     NaN   NaN    NaN   NaN    NaN  \n",
      "3     NaN   NaN    NaN   NaN    NaN  \n",
      "4     NaN   NaN    NaN   NaN    NaN  \n",
      "5     NaN   NaN    NaN   NaN    NaN  \n",
      "6     NaN   NaN    NaN   NaN    NaN  \n",
      "7     NaN   NaN    NaN   NaN    NaN  \n",
      "8     NaN   NaN    NaN   NaN    NaN  \n",
      "9     0.0  33.6  0.627  50.0    1.0  \n",
      "10    0.0  26.6  0.351  31.0    0.0  \n",
      "11    0.0  23.3  0.672  32.0    1.0  \n",
      "12   94.0  28.1  0.167  21.0    0.0  \n",
      "13  168.0  43.1  2.288  33.0    1.0  \n",
      "14    0.0  25.6  0.201  30.0    0.0  \n",
      "15   88.0  31.0  0.248  26.0    1.0  \n",
      "16    0.0  35.3  0.134  29.0    0.0  \n",
      "17  543.0  30.5  0.158  53.0    1.0  \n",
      "18    0.0   0.0  0.232  54.0    1.0  \n",
      "19    0.0  37.6  0.191  30.0    0.0  \n",
      "20    0.0  38.0  0.537  34.0    1.0  \n",
      "21    0.0  27.1  1.441  57.0    0.0  \n",
      "22  846.0  30.1  0.398  59.0    1.0  \n",
      "23  175.0  25.8  0.587  51.0    1.0  \n",
      "24    0.0  30.0  0.484  32.0    1.0  \n",
      "25  230.0  45.8  0.551  31.0    1.0  \n",
      "26    0.0  29.6  0.254  31.0    1.0  \n",
      "27   83.0  43.3  0.183  33.0    0.0  \n",
      "28   96.0  34.6  0.529  32.0    1.0  \n",
      "29  235.0  39.3  0.704  27.0    0.0  \n",
      "30    0.0  35.4  0.388  50.0    0.0  \n",
      "31    0.0  39.8  0.451  41.0    1.0  \n",
      "32    0.0  29.0  0.263  29.0    1.0  \n",
      "33  146.0  36.6  0.254  51.0    1.0  \n",
      "34  115.0  31.1  0.205  41.0    1.0  \n",
      "35    0.0  39.4  0.257  43.0    1.0  \n",
      "36  140.0  23.2  0.487  22.0    0.0  \n",
      "37  110.0  22.2  0.245  57.0    0.0  \n",
      "38    0.0  34.1  0.337  38.0    0.0  \n",
      "39    0.0  36.0  0.546  60.0    0.0  \n",
      "40  245.0  31.6  0.851  28.0    1.0  \n",
      "41   54.0  24.8  0.267  22.0    0.0  \n",
      "42    0.0  19.9  0.188  28.0    0.0  \n",
      "43    0.0  27.6  0.512  45.0    0.0  \n",
      "44  192.0  24.0  0.966  33.0    0.0  \n",
      "45    0.0  33.2  0.420  35.0    0.0  \n",
      "46    0.0  32.9  0.665  46.0    1.0  \n",
      "47    0.0  38.2  0.503  27.0    1.0  \n",
      "48  207.0  37.1  1.390  56.0    1.0  \n",
      "49   70.0  34.0  0.271  26.0    0.0  \n"
     ]
    }
   ],
   "source": [
    "from pandas import read_csv\n",
    "path = r\"pima-indians-diabetes.csv\"\n",
    "headernames = ['preg', 'plas', 'pres', 'skin', 'test', 'mass', 'pedi', 'age', 'class']\n",
    "data = read_csv(path, names=headernames)\n",
    "print(data.head(50))"
   ]
  },
  {
   "cell_type": "code",
   "execution_count": 4,
   "metadata": {},
   "outputs": [
    {
     "name": "stdout",
     "output_type": "stream",
     "text": [
      "(150, 5)\n"
     ]
    }
   ],
   "source": [
    "from pandas import read_csv\n",
    "path = r\"iris.csv\"\n",
    "data = read_csv(path)\n",
    "print(data.shape)\n"
   ]
  },
  {
   "cell_type": "code",
   "execution_count": 5,
   "metadata": {},
   "outputs": [
    {
     "name": "stdout",
     "output_type": "stream",
     "text": [
      "sepal.length    float64\n",
      "sepal.width     float64\n",
      "petal.length    float64\n",
      "petal.width     float64\n",
      "variety          object\n",
      "dtype: object\n"
     ]
    }
   ],
   "source": [
    "from pandas import read_csv\n",
    "path = r\"iris.csv\"\n",
    "data = read_csv(path)\n",
    "print(data.dtypes)"
   ]
  },
  {
   "cell_type": "code",
   "execution_count": null,
   "metadata": {},
   "outputs": [],
   "source": []
  }
 ],
 "metadata": {
  "kernelspec": {
   "display_name": "Python 3",
   "language": "python",
   "name": "python3"
  },
  "language_info": {
   "codemirror_mode": {
    "name": "ipython",
    "version": 3
   },
   "file_extension": ".py",
   "mimetype": "text/x-python",
   "name": "python",
   "nbconvert_exporter": "python",
   "pygments_lexer": "ipython3",
   "version": "3.8.3"
  }
 },
 "nbformat": 4,
 "nbformat_minor": 4
}
