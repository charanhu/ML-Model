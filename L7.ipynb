{
 "cells": [
  {
   "cell_type": "code",
   "execution_count": 1,
   "metadata": {},
   "outputs": [
    {
     "name": "stdout",
     "output_type": "stream",
     "text": [
      "class\n",
      "0.0    500\n",
      "1.0    268\n",
      "dtype: int64\n"
     ]
    }
   ],
   "source": [
    "from pandas import read_csv\n",
    "path = r\"pima-indians-diabetes.csv\"\n",
    "names = ['preg', 'plas', 'pres', 'skin', 'test', 'mass', 'pedi', 'age',\n",
    "'class']\n",
    "data = read_csv(path, names=names)\n",
    "count_class = data.groupby('class').size()\n",
    "print(count_class) "
   ]
  },
  {
   "cell_type": "code",
   "execution_count": 5,
   "metadata": {},
   "outputs": [
    {
     "name": "stdout",
     "output_type": "stream",
     "text": [
      "class\n",
      "0.0    500\n",
      "1.0    268\n",
      "dtype: int64\n"
     ]
    }
   ],
   "source": [
    "count_class1 = data.groupby('class').size()\n",
    "print(count_class1) "
   ]
  },
  {
   "cell_type": "code",
   "execution_count": 9,
   "metadata": {},
   "outputs": [
    {
     "data": {
      "text/plain": [
       "class\n",
       "0.0    500\n",
       "1.0    268\n",
       "dtype: int64"
      ]
     },
     "execution_count": 9,
     "metadata": {},
     "output_type": "execute_result"
    }
   ],
   "source": [
    "count_class1"
   ]
  },
  {
   "cell_type": "code",
   "execution_count": 10,
   "metadata": {},
   "outputs": [
    {
     "name": "stdout",
     "output_type": "stream",
     "text": [
      "       plas  pres  skin  test  mass  pedi   age  class\n",
      "plas   1.00  0.15  0.06  0.33  0.22  0.14  0.26   0.47\n",
      "pres   0.15  1.00  0.21  0.09  0.28  0.04  0.24   0.07\n",
      "skin   0.06  0.21  1.00  0.44  0.39  0.18 -0.11   0.07\n",
      "test   0.33  0.09  0.44  1.00  0.20  0.19 -0.04   0.13\n",
      "mass   0.22  0.28  0.39  0.20  1.00  0.14  0.04   0.29\n",
      "pedi   0.14  0.04  0.18  0.19  0.14  1.00  0.03   0.17\n",
      "age    0.26  0.24 -0.11 -0.04  0.04  0.03  1.00   0.24\n",
      "class  0.47  0.07  0.07  0.13  0.29  0.17  0.24   1.00\n"
     ]
    }
   ],
   "source": [
    "from pandas import read_csv\n",
    "from pandas import set_option\n",
    "path = r\"pima-indians-diabetes.csv\"\n",
    "names = ['preg', 'plas', 'pres', 'skin', 'test', 'mass', 'pedi', 'age',\n",
    "'class']\n",
    "data = read_csv(path, names=names)\n",
    "set_option('display.width', 100)\n",
    "set_option('precision', 2)\n",
    "correlations = data.corr(method='pearson')\n",
    "print(correlations)\n"
   ]
  },
  {
   "cell_type": "code",
   "execution_count": null,
   "metadata": {},
   "outputs": [],
   "source": []
  }
 ],
 "metadata": {
  "kernelspec": {
   "display_name": "Python 3",
   "language": "python",
   "name": "python3"
  },
  "language_info": {
   "codemirror_mode": {
    "name": "ipython",
    "version": 3
   },
   "file_extension": ".py",
   "mimetype": "text/x-python",
   "name": "python",
   "nbconvert_exporter": "python",
   "pygments_lexer": "ipython3",
   "version": "3.8.3"
  }
 },
 "nbformat": 4,
 "nbformat_minor": 4
}
